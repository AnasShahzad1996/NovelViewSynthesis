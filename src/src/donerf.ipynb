{
  "cells": [
    {
      "cell_type": "markdown",
      "metadata": {
        "id": "MkwYKB5Ph4e1"
      },
      "source": [
        "# Import Project"
      ]
    },
    {
      "cell_type": "markdown",
      "metadata": {},
      "source": [
        "## Google Colab"
      ]
    },
    {
      "cell_type": "code",
      "execution_count": null,
      "metadata": {
        "colab": {
          "base_uri": "https://localhost:8080/"
        },
        "id": "xa75iX0xhTm-",
        "outputId": "e34ce56b-5c6a-4a2e-cc96-e75f8e8777ef"
      },
      "outputs": [
        {
          "name": "stdout",
          "output_type": "stream",
          "text": [
            "Cloning into 'novel_view_synthesis'...\n",
            "remote: Enumerating objects: 551, done.\u001b[K\n",
            "remote: Counting objects: 100% (84/84), done.\u001b[K\n",
            "remote: Compressing objects: 100% (63/63), done.\u001b[K\n",
            "remote: Total 551 (delta 24), reused 74 (delta 18), pack-reused 467\u001b[K\n",
            "Receiving objects: 100% (551/551), 38.77 MiB | 23.18 MiB/s, done.\n",
            "Resolving deltas: 100% (214/214), done.\n"
          ]
        }
      ],
      "source": [
        "import os\n",
        "import sys\n",
        "import torch\n",
        "\n",
        "!git clone https://github.com/AnasShahzad1996/novel_view_synthesis.git"
      ]
    },
    {
      "cell_type": "code",
      "execution_count": null,
      "metadata": {
        "colab": {
          "base_uri": "https://localhost:8080/"
        },
        "id": "djlnj7NsR2mP",
        "outputId": "5cecbcc8-4cd8-40b5-d4ab-70203434c872"
      },
      "outputs": [
        {
          "name": "stdout",
          "output_type": "stream",
          "text": [
            "Branch 'donerf' set up to track remote branch 'donerf' from 'origin'.\n",
            "Switched to a new branch 'donerf'\n"
          ]
        }
      ],
      "source": [
        "!cd novel_view_synthesis && git checkout donerf"
      ]
    },
    {
      "cell_type": "code",
      "execution_count": null,
      "metadata": {
        "colab": {
          "base_uri": "https://localhost:8080/"
        },
        "id": "hGSfrsdjhfEt",
        "outputId": "42d70a14-fc25-4519-f7ff-40e2298d91f1"
      },
      "outputs": [
        {
          "name": "stdout",
          "output_type": "stream",
          "text": [
            "CUDA availability: True\n"
          ]
        }
      ],
      "source": [
        "project_path = '/content/novel_view_synthesis/src/src'\n",
        "os.chdir(project_path)\n",
        "sys.path.insert(1, project_path)\n",
        "print('CUDA availability:', torch.cuda.is_available())"
      ]
    },
    {
      "cell_type": "code",
      "execution_count": null,
      "metadata": {
        "colab": {
          "base_uri": "https://localhost:8080/"
        },
        "id": "XxQOfC5D1k8S",
        "outputId": "1dff6701-1e00-4694-e6c7-0b6e0e7039b7"
      },
      "outputs": [
        {
          "name": "stdout",
          "output_type": "stream",
          "text": [
            "Mon Jul 24 12:02:51 2023       \n",
            "+-----------------------------------------------------------------------------+\n",
            "| NVIDIA-SMI 525.105.17   Driver Version: 525.105.17   CUDA Version: 12.0     |\n",
            "|-------------------------------+----------------------+----------------------+\n",
            "| GPU  Name        Persistence-M| Bus-Id        Disp.A | Volatile Uncorr. ECC |\n",
            "| Fan  Temp  Perf  Pwr:Usage/Cap|         Memory-Usage | GPU-Util  Compute M. |\n",
            "|                               |                      |               MIG M. |\n",
            "|===============================+======================+======================|\n",
            "|   0  Tesla V100-SXM2...  Off  | 00000000:00:04.0 Off |                    0 |\n",
            "| N/A   36C    P0    24W / 300W |      2MiB / 16384MiB |      0%      Default |\n",
            "|                               |                      |                  N/A |\n",
            "+-------------------------------+----------------------+----------------------+\n",
            "                                                                               \n",
            "+-----------------------------------------------------------------------------+\n",
            "| Processes:                                                                  |\n",
            "|  GPU   GI   CI        PID   Type   Process name                  GPU Memory |\n",
            "|        ID   ID                                                   Usage      |\n",
            "|=============================================================================|\n",
            "|  No running processes found                                                 |\n",
            "+-----------------------------------------------------------------------------+\n"
          ]
        }
      ],
      "source": [
        "!nvidia-smi"
      ]
    },
    {
      "cell_type": "code",
      "execution_count": null,
      "metadata": {
        "colab": {
          "base_uri": "https://localhost:8080/"
        },
        "id": "etR3tWRK2NGE",
        "outputId": "6b8c5e8d-d429-402a-eaa4-a65366b36a1c"
      },
      "outputs": [
        {
          "name": "stdout",
          "output_type": "stream",
          "text": [
            "nvcc: NVIDIA (R) Cuda compiler driver\n",
            "Copyright (c) 2005-2022 NVIDIA Corporation\n",
            "Built on Wed_Sep_21_10:33:58_PDT_2022\n",
            "Cuda compilation tools, release 11.8, V11.8.89\n",
            "Build cuda_11.8.r11.8/compiler.31833905_0\n"
          ]
        }
      ],
      "source": [
        "!nvcc --version"
      ]
    },
    {
      "cell_type": "markdown",
      "metadata": {
        "id": "LUrOVN0j1mwn"
      },
      "source": [
        "# Project Setup"
      ]
    },
    {
      "cell_type": "code",
      "execution_count": null,
      "metadata": {
        "id": "BGGorI5shoje"
      },
      "outputs": [],
      "source": [
        "!cd .. && python -m pip install -r requirements.txt"
      ]
    },
    {
      "cell_type": "markdown",
      "metadata": {
        "id": "-35zd9sg6kvX"
      },
      "source": [
        "## Install kilonerf_cuda"
      ]
    },
    {
      "cell_type": "code",
      "execution_count": null,
      "metadata": {},
      "outputs": [],
      "source": [
        "!apt install libgl-dev freeglut3-dev"
      ]
    },
    {
      "cell_type": "markdown",
      "metadata": {},
      "source": [
        "### Using Pre-compiled Wheel"
      ]
    },
    {
      "cell_type": "code",
      "execution_count": null,
      "metadata": {},
      "outputs": [],
      "source": [
        "!pip install cuda/dist/kilonerf_cuda-0.0.0-cp38-cp38-linux_x86_64.whl"
      ]
    },
    {
      "cell_type": "markdown",
      "metadata": {},
      "source": [
        "### Or Alternatively"
      ]
    },
    {
      "cell_type": "code",
      "execution_count": null,
      "metadata": {},
      "outputs": [],
      "source": [
        "!wget https://developer.download.nvidia.com/compute/cuda/11.1.1/local_installers/cuda_11.1.1_455.32.00_linux.run\n",
        "!sh cuda_11.1.1_455.32.00_linux.run --silent\n",
        "!echo -e \"\\nexport PATH=\\\"/usr/local/cuda/bin:\\$PATH\\\"\" >> ~/.bashrc\n",
        "!echo \"export LD_LIBRARY_PATH=\\\"/usr/local/cuda/lib64:\\$LD_LIBRARY_PATH\\\"\" >> ~/.bashrc"
      ]
    },
    {
      "cell_type": "code",
      "execution_count": null,
      "metadata": {
        "id": "8QxDogMg2Yi5"
      },
      "outputs": [],
      "source": [
        "!apt install gfortran libopenblas-dev\n",
        "!wget http://icl.utk.edu/projectsfiles/magma/downloads/magma-2.5.4.tar.gz\n",
        "!tar -zxvf magma-2.5.4.tar.gz"
      ]
    },
    {
      "cell_type": "code",
      "execution_count": null,
      "metadata": {
        "id": "OyuRmurZ24MO"
      },
      "outputs": [],
      "source": [
        "!cp magma-2.5.4/make.inc-examples/make.inc.openblas magma-2.5.4/make.inc"
      ]
    },
    {
      "cell_type": "code",
      "execution_count": null,
      "metadata": {
        "colab": {
          "base_uri": "https://localhost:8080/"
        },
        "id": "OMEuLUBB2954",
        "outputId": "7a62e90a-99ee-43f4-9e55-4fd49823e304"
      },
      "outputs": [
        {
          "name": "stdout",
          "output_type": "stream",
          "text": [
            "env: GPU_TARGET=\"Maxwell Pascal Volta Turing Ampere\"\n",
            "env: CUDADIR=/usr/local/cuda\n",
            "env: OPENBLASDIR=/usr/\n"
          ]
        }
      ],
      "source": [
        "%env GPU_TARGET=\"Maxwell Pascal Volta Turing Ampere\"\n",
        "%env CUDADIR=/usr/local/cuda\n",
        "%env OPENBLASDIR=/usr/"
      ]
    },
    {
      "cell_type": "code",
      "execution_count": null,
      "metadata": {
        "id": "zcTFoWmx3AsY"
      },
      "outputs": [],
      "source": [
        "!cd magma-2.5.4 && make\n",
        "!cd magma-2.5.4 && sudo -E make install prefix=/usr/local/magma"
      ]
    },
    {
      "cell_type": "code",
      "execution_count": null,
      "metadata": {},
      "outputs": [],
      "source": [
        "!cd cuda && python setup.py develop"
      ]
    },
    {
      "cell_type": "markdown",
      "metadata": {
        "id": "gTbwZy03Sc4B"
      },
      "source": [
        "# Dataset"
      ]
    },
    {
      "cell_type": "code",
      "execution_count": null,
      "metadata": {
        "id": "o1RkE758UIUi"
      },
      "outputs": [],
      "source": [
        "!mkdir data"
      ]
    },
    {
      "cell_type": "code",
      "execution_count": null,
      "metadata": {
        "colab": {
          "base_uri": "https://localhost:8080/"
        },
        "id": "k4rTjuplSepA",
        "outputId": "e900d35e-6005-4e7b-e1a8-465e7a891228"
      },
      "outputs": [
        {
          "name": "stdout",
          "output_type": "stream",
          "text": [
            "--2023-07-24 12:03:11--  https://repository.tugraz.at/records/jjs3x-4f133/files/classroom.zip\n",
            "Resolving repository.tugraz.at (repository.tugraz.at)... 129.27.2.161\n",
            "Connecting to repository.tugraz.at (repository.tugraz.at)|129.27.2.161|:443... connected.\n",
            "HTTP request sent, awaiting response... 200 OK\n",
            "Length: 689090205 (657M) [application/octet-stream]\n",
            "Saving to: ‘classroom.zip’\n",
            "\n",
            "classroom.zip        21%[===>                ] 144.55M   358KB/s    in 5m 20s  \n",
            "\n",
            "2023-07-24 12:08:35 (463 KB/s) - Connection closed at byte 151574166. Retrying.\n",
            "\n",
            "--2023-07-24 12:08:36--  (try: 2)  https://repository.tugraz.at/records/jjs3x-4f133/files/classroom.zip\n",
            "Connecting to repository.tugraz.at (repository.tugraz.at)|129.27.2.161|:443... connected.\n",
            "HTTP request sent, awaiting response... 200 OK\n",
            "Length: 689090205 (657M) [application/octet-stream]\n",
            "Saving to: ‘classroom.zip’\n",
            "\n",
            "classroom.zip         0%[                    ]   1.03M   160KB/s    in 10s     \n",
            "\n",
            "2023-07-24 12:08:49 (104 KB/s) - Connection closed at byte 151574166. Retrying.\n",
            "\n",
            "--2023-07-24 12:08:51--  (try: 3)  https://repository.tugraz.at/records/jjs3x-4f133/files/classroom.zip\n",
            "Connecting to repository.tugraz.at (repository.tugraz.at)|129.27.2.161|:443... connected.\n",
            "HTTP request sent, awaiting response... 200 OK\n",
            "Length: 689090205 (657M) [application/octet-stream]\n",
            "Saving to: ‘classroom.zip’\n",
            "\n",
            "classroom.zip         0%[                    ]   3.72M   442KB/s    eta 43m 53s"
          ]
        }
      ],
      "source": [
        "!cd data && wget https://repository.tugraz.at/records/jjs3x-4f133/files/classroom.zip && unzip -n classroom.zip"
      ]
    },
    {
      "cell_type": "markdown",
      "metadata": {
        "id": "R09Wfbsz60KZ"
      },
      "source": [
        "# DONeRF Experiment\n",
        "## Train"
      ]
    },
    {
      "cell_type": "code",
      "execution_count": null,
      "metadata": {
        "colab": {
          "base_uri": "https://localhost:8080/"
        },
        "id": "W9vqTzOf63ah",
        "outputId": "3c3143df-e5d2-4964-e895-1480692f4546"
      },
      "outputs": [
        {
          "name": "stdout",
          "output_type": "stream",
          "text": [
            "device Tesla T4\n",
            "WARNING! - import of cuda kernels for 'disc_depth_multiclass' failed - falling back to PyTorch\n",
            "Loading dataset train: 100% 210/210 [00:08<00:00, 24.31it/s]\n",
            "Loading dataset val  : 100% 30/30 [00:01<00:00, 25.05it/s]\n",
            "Loading dataset test : 100% 60/60 [00:02<00:00, 25.13it/s]\n",
            "Training config: lo_l1.0_0.0_SpPoDir[128]-relu0(256x8)-CD-128-5-5_l1.0_10.0_RayMarchFromPoses_nSD[2_LSfCD_128_0.0](nerf(10-4))-relu1(256x80..63-7.63.)-RGBARayMarch (../configs/DONeRF_2_samples.ini)\n",
            "Reloading Checkpoint from /data/output_results/classroom/lo_l1.0_0.0_SpPoDir[128]-relu0(256x8)-CD-128-5-5_l1.0_10.0_RayMarchFromPoses_nSD[2_LSfCD_128_0.0](nerf(10-4))-relu1(256x80..63-7.63.)-RGBARayMarch/relu0(256x8)_0060000.weights\n",
            "Reloading optimizer checkpoint from /data/output_results/classroom/lo_l1.0_0.0_SpPoDir[128]-relu0(256x8)-CD-128-5-5_l1.0_10.0_RayMarchFromPoses_nSD[2_LSfCD_128_0.0](nerf(10-4))-relu1(256x80..63-7.63.)-RGBARayMarch/relu0(256x8)_0060000.optimizer\n",
            "Reloading Checkpoint from /data/output_results/classroom/lo_l1.0_0.0_SpPoDir[128]-relu0(256x8)-CD-128-5-5_l1.0_10.0_RayMarchFromPoses_nSD[2_LSfCD_128_0.0](nerf(10-4))-relu1(256x80..63-7.63.)-RGBARayMarch/relu1(256x80..63-7.63.)_0060000.weights\n",
            "Reloading optimizer checkpoint from /data/output_results/classroom/lo_l1.0_0.0_SpPoDir[128]-relu0(256x8)-CD-128-5-5_l1.0_10.0_RayMarchFromPoses_nSD[2_LSfCD_128_0.0](nerf(10-4))-relu1(256x80..63-7.63.)-RGBARayMarch/relu1(256x80..63-7.63.)_0060000.optimizer\n",
            "pre-training finished\n",
            "0it [00:00, ?it/s]\n",
            "Getting network size - DONE!\n",
            "Generating diff and flip images: 100% 60/60 [00:16<00:00,  3.58it/s]\n",
            "Saving diff and flip images: 100% 60/60 [00:13<00:00,  4.54it/s]\n"
          ]
        }
      ],
      "source": [
        "!python train.py -c ../configs/DONeRF_8_samples.ini --data data/classroom/ --logDir data/classroom/output_results/ --device 0 --storeFullData"
      ]
    },
    {
      "cell_type": "markdown",
      "metadata": {},
      "source": [
        "## Test"
      ]
    },
    {
      "cell_type": "code",
      "execution_count": null,
      "metadata": {},
      "outputs": [],
      "source": [
        "!python test.py -c ../configs/DONeRF_8_samples.ini --data data/classroom/ --logDir data/output_results/ --device 0 --storeFullData --camPath cam_path_rotate --outputVideoName cam_path_rotate --videoFrames 300"
      ]
    },
    {
      "cell_type": "markdown",
      "metadata": {},
      "source": [
        "# NeRF Experiment\n",
        "## Train"
      ]
    },
    {
      "cell_type": "code",
      "execution_count": null,
      "metadata": {
        "id": "TDjrFdECqEmo"
      },
      "outputs": [],
      "source": [
        "!python train.py -c ../configs/NeRF_coarse_only_8_samples_log_warp.ini --data data/classroom/ --logDir data/classroom/output_results/ --device 0 --storeFullData"
      ]
    },
    {
      "cell_type": "markdown",
      "metadata": {},
      "source": [
        "## Test"
      ]
    },
    {
      "cell_type": "code",
      "execution_count": null,
      "metadata": {},
      "outputs": [],
      "source": [
        "!python test.py -c ../configs/NeRF_coarse_only_8_samples_log_warp.ini --data data/classroom/ --logDir data/output_results/ --device 0 --storeFullData --camPath cam_path_rotate --outputVideoName cam_path_rotate --videoFrames 300"
      ]
    },
    {
      "cell_type": "markdown",
      "metadata": {},
      "source": [
        "# KiloNeRF Experiment\n",
        "## Train"
      ]
    },
    {
      "cell_type": "code",
      "execution_count": null,
      "metadata": {},
      "outputs": [],
      "source": [
        "!python train.py -c ../configs/KiloNeRF_8_samples_log_warp.ini --data data/classroom/ --logDir data/classroom/output_results/ --device 0 --storeFullData"
      ]
    },
    {
      "cell_type": "markdown",
      "metadata": {},
      "source": [
        "## Test"
      ]
    },
    {
      "cell_type": "code",
      "execution_count": null,
      "metadata": {},
      "outputs": [],
      "source": [
        "!python test.py -c ../configs/KiloNeRF_8_samples_log_warp.ini --data data/classroom/ --logDir data/output_results/ --device 0 --storeFullData --camPath cam_path_rotate --outputVideoName cam_path_rotate --videoFrames 300"
      ]
    }
  ],
  "metadata": {
    "accelerator": "GPU",
    "colab": {
      "gpuType": "V100",
      "machine_shape": "hm",
      "provenance": []
    },
    "kernelspec": {
      "display_name": "Python 3",
      "name": "python3"
    },
    "language_info": {
      "codemirror_mode": {
        "name": "ipython",
        "version": 3
      },
      "file_extension": ".py",
      "mimetype": "text/x-python",
      "name": "python",
      "nbconvert_exporter": "python",
      "pygments_lexer": "ipython3",
      "version": "3.9.16"
    }
  },
  "nbformat": 4,
  "nbformat_minor": 0
}
