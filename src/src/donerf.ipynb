{
  "cells": [
    {
      "cell_type": "markdown",
      "metadata": {
        "id": "MkwYKB5Ph4e1"
      },
      "source": [
        "# Import Project\n",
        "## Google Colab"
      ]
    },
    {
      "cell_type": "code",
      "execution_count": null,
      "metadata": {
        "colab": {
          "base_uri": "https://localhost:8080/"
        },
        "id": "xa75iX0xhTm-",
        "outputId": "6e6aaf2f-2520-4c25-8a96-e17dbf86ea32"
      },
      "outputs": [
        {
          "name": "stdout",
          "output_type": "stream",
          "text": [
            "Cloning into 'novel_view_synthesis'...\n",
            "remote: Enumerating objects: 612, done.\u001b[K\n",
            "remote: Counting objects: 100% (145/145), done.\u001b[K\n",
            "remote: Compressing objects: 100% (95/95), done.\u001b[K\n",
            "remote: Total 612 (delta 69), reused 117 (delta 45), pack-reused 467\u001b[K\n",
            "Receiving objects: 100% (612/612), 51.05 MiB | 20.98 MiB/s, done.\n",
            "Resolving deltas: 100% (259/259), done.\n"
          ]
        }
      ],
      "source": [
        "import os\n",
        "import sys\n",
        "import torch\n",
        "\n",
        "!git clone https://github.com/AnasShahzad1996/novel_view_synthesis.git"
      ]
    },
    {
      "cell_type": "code",
      "execution_count": null,
      "metadata": {
        "colab": {
          "base_uri": "https://localhost:8080/"
        },
        "id": "djlnj7NsR2mP",
        "outputId": "ce1bce18-2a72-4d06-8273-3ed01be100c9"
      },
      "outputs": [
        {
          "name": "stdout",
          "output_type": "stream",
          "text": [
            "Branch 'donerf' set up to track remote branch 'donerf' from 'origin'.\n",
            "Switched to a new branch 'donerf'\n"
          ]
        }
      ],
      "source": [
        "!cd novel_view_synthesis && git checkout donerf"
      ]
    },
    {
      "cell_type": "code",
      "execution_count": null,
      "metadata": {
        "colab": {
          "base_uri": "https://localhost:8080/"
        },
        "id": "hGSfrsdjhfEt",
        "outputId": "0d61b0a6-ea4a-47b8-ae96-e1a9f503b564"
      },
      "outputs": [
        {
          "name": "stdout",
          "output_type": "stream",
          "text": [
            "CUDA availability: True\n"
          ]
        }
      ],
      "source": [
        "project_path = '/content/novel_view_synthesis/src/src'\n",
        "os.chdir(project_path)\n",
        "sys.path.insert(1, project_path)\n",
        "print('CUDA availability:', torch.cuda.is_available())"
      ]
    },
    {
      "cell_type": "code",
      "execution_count": null,
      "metadata": {
        "colab": {
          "base_uri": "https://localhost:8080/"
        },
        "id": "XxQOfC5D1k8S",
        "outputId": "1dff6701-1e00-4694-e6c7-0b6e0e7039b7"
      },
      "outputs": [
        {
          "name": "stdout",
          "output_type": "stream",
          "text": [
            "Mon Jul 24 12:02:51 2023       \n",
            "+-----------------------------------------------------------------------------+\n",
            "| NVIDIA-SMI 525.105.17   Driver Version: 525.105.17   CUDA Version: 12.0     |\n",
            "|-------------------------------+----------------------+----------------------+\n",
            "| GPU  Name        Persistence-M| Bus-Id        Disp.A | Volatile Uncorr. ECC |\n",
            "| Fan  Temp  Perf  Pwr:Usage/Cap|         Memory-Usage | GPU-Util  Compute M. |\n",
            "|                               |                      |               MIG M. |\n",
            "|===============================+======================+======================|\n",
            "|   0  Tesla V100-SXM2...  Off  | 00000000:00:04.0 Off |                    0 |\n",
            "| N/A   36C    P0    24W / 300W |      2MiB / 16384MiB |      0%      Default |\n",
            "|                               |                      |                  N/A |\n",
            "+-------------------------------+----------------------+----------------------+\n",
            "                                                                               \n",
            "+-----------------------------------------------------------------------------+\n",
            "| Processes:                                                                  |\n",
            "|  GPU   GI   CI        PID   Type   Process name                  GPU Memory |\n",
            "|        ID   ID                                                   Usage      |\n",
            "|=============================================================================|\n",
            "|  No running processes found                                                 |\n",
            "+-----------------------------------------------------------------------------+\n"
          ]
        }
      ],
      "source": [
        "!nvidia-smi"
      ]
    },
    {
      "cell_type": "code",
      "execution_count": null,
      "metadata": {
        "colab": {
          "base_uri": "https://localhost:8080/"
        },
        "id": "etR3tWRK2NGE",
        "outputId": "6b8c5e8d-d429-402a-eaa4-a65366b36a1c"
      },
      "outputs": [
        {
          "name": "stdout",
          "output_type": "stream",
          "text": [
            "nvcc: NVIDIA (R) Cuda compiler driver\n",
            "Copyright (c) 2005-2022 NVIDIA Corporation\n",
            "Built on Wed_Sep_21_10:33:58_PDT_2022\n",
            "Cuda compilation tools, release 11.8, V11.8.89\n",
            "Build cuda_11.8.r11.8/compiler.31833905_0\n"
          ]
        }
      ],
      "source": [
        "!nvcc --version"
      ]
    },
    {
      "cell_type": "markdown",
      "metadata": {
        "id": "LUrOVN0j1mwn"
      },
      "source": [
        "# Project Setup"
      ]
    },
    {
      "cell_type": "code",
      "execution_count": null,
      "metadata": {
        "id": "BGGorI5shoje"
      },
      "outputs": [],
      "source": [
        "!cd .. && python -m pip install -r requirements.txt"
      ]
    },
    {
      "cell_type": "markdown",
      "metadata": {
        "id": "-35zd9sg6kvX"
      },
      "source": [
        "## Install kilonerf_cuda"
      ]
    },
    {
      "cell_type": "code",
      "execution_count": null,
      "metadata": {
        "id": "Bg856Ezx0ECv"
      },
      "outputs": [],
      "source": [
        "!apt install libgl-dev freeglut3-dev"
      ]
    },
    {
      "cell_type": "markdown",
      "metadata": {
        "id": "vJGm3Wnr0HmE"
      },
      "source": [
        "## Using Pre-compiled Wheel"
      ]
    },
    {
      "cell_type": "code",
      "execution_count": null,
      "metadata": {
        "id": "xVUJukLt0GGA"
      },
      "outputs": [],
      "source": [
        "!pip install cuda/dist/kilonerf_cuda-0.0.0-cp38-cp38-linux_x86_64.whl"
      ]
    },
    {
      "cell_type": "markdown",
      "metadata": {
        "id": "vZD1FG_X0MAr"
      },
      "source": [
        "## Or Alternatively"
      ]
    },
    {
      "cell_type": "code",
      "execution_count": null,
      "metadata": {
        "id": "8QxDogMg2Yi5"
      },
      "outputs": [],
      "source": [
        "!wget https://developer.download.nvidia.com/compute/cuda/11.1.1/local_installers/cuda_11.1.1_455.32.00_linux.run\n",
        "!sh cuda_11.1.1_455.32.00_linux.run --silent\n",
        "!echo -e \"\\nexport PATH=\\\"/usr/local/cuda/bin:\\$PATH\\\"\" >> ~/.bashrc\n",
        "!echo \"export LD_LIBRARY_PATH=\\\"/usr/local/cuda/lib64:\\$LD_LIBRARY_PATH\\\"\" >> ~/.bashrc"
      ]
    },
    {
      "cell_type": "code",
      "execution_count": null,
      "metadata": {
        "id": "Z58AWnKi0aHc"
      },
      "outputs": [],
      "source": [
        "!apt install gfortran libopenblas-dev"
      ]
    },
    {
      "cell_type": "code",
      "execution_count": null,
      "metadata": {
        "id": "5Wasu5rL0XQn"
      },
      "outputs": [],
      "source": [
        "!wget http://icl.utk.edu/projectsfiles/magma/downloads/magma-2.5.4.tar.gz\n",
        "!tar -zxvf magma-2.5.4.tar.gz"
      ]
    },
    {
      "cell_type": "code",
      "execution_count": null,
      "metadata": {
        "id": "OyuRmurZ24MO"
      },
      "outputs": [],
      "source": [
        "!cp magma-2.5.4/make.inc-examples/make.inc.openblas magma-2.5.4/make.inc"
      ]
    },
    {
      "cell_type": "code",
      "execution_count": null,
      "metadata": {
        "colab": {
          "base_uri": "https://localhost:8080/"
        },
        "id": "OMEuLUBB2954",
        "outputId": "7a62e90a-99ee-43f4-9e55-4fd49823e304"
      },
      "outputs": [
        {
          "name": "stdout",
          "output_type": "stream",
          "text": [
            "env: GPU_TARGET=\"Maxwell Pascal Volta Turing Ampere\"\n",
            "env: CUDADIR=/usr/local/cuda\n",
            "env: OPENBLASDIR=/usr/\n"
          ]
        }
      ],
      "source": [
        "%env GPU_TARGET=\"Maxwell Pascal Volta Turing Ampere\"\n",
        "%env CUDADIR=/usr/local/cuda\n",
        "%env OPENBLASDIR=/usr/"
      ]
    },
    {
      "cell_type": "code",
      "execution_count": null,
      "metadata": {
        "id": "zcTFoWmx3AsY"
      },
      "outputs": [],
      "source": [
        "!cd magma-2.5.4 && make\n",
        "!cd magma-2.5.4 && sudo -E make install prefix=/usr/local/magma"
      ]
    },
    {
      "cell_type": "markdown",
      "metadata": {
        "id": "gTbwZy03Sc4B"
      },
      "source": [
        "# Dataset"
      ]
    },
    {
      "cell_type": "code",
      "execution_count": null,
      "metadata": {
        "id": "o1RkE758UIUi"
      },
      "outputs": [],
      "source": [
        "!mkdir data"
      ]
    },
    {
      "cell_type": "code",
      "execution_count": null,
      "metadata": {
        "id": "k4rTjuplSepA"
      },
      "outputs": [],
      "source": [
        "!cd data && wget https://repository.tugraz.at/records/jjs3x-4f133/files/classroom.zip && unzip -n classroom.zip"
      ]
    },
    {
      "cell_type": "markdown",
      "metadata": {
        "id": "R09Wfbsz60KZ"
      },
      "source": [
        "# DONeRF Experiment\n",
        "## Train"
      ]
    },
    {
      "cell_type": "code",
      "execution_count": 16,
      "metadata": {
        "colab": {
          "base_uri": "https://localhost:8080/"
        },
        "id": "W9vqTzOf63ah",
        "outputId": "067053c3-b20a-4bd1-b95a-2d3115249485"
      },
      "outputs": [
        {
          "name": "stdout",
          "output_type": "stream",
          "text": [
            "device Tesla V100-SXM2-16GB\n",
            "WARNING! - import of cuda kernels for 'disc_depth_multiclass' failed - falling back to PyTorch\n",
            "\n",
            "Preprocessing low-discrepancy r sequence values for sampling\n",
            "29999001/30000000/content/novel_view_synthesis/src/src/sampled_sequence.py:106: UserWarning: Creating a tensor from a list of numpy.ndarrays is extremely slow. Please consider converting the list to a single numpy.ndarray with numpy.array() before converting to a tensor. (Triggered internally at ../torch/csrc/utils/tensor_new.cpp:245.)\n",
            "  self.pregenerated_tensor = torch.tensor(pregenerated_values, device=device, dtype=torch.float32)\n",
            "Loading dataset train: 100% 210/210 [00:07<00:00, 26.76it/s]\n",
            "Loading dataset val  : 100% 30/30 [00:01<00:00, 27.70it/s]\n",
            "Loading dataset test : 100% 60/60 [00:02<00:00, 27.34it/s]\n",
            "Training config: lo_l1.0_0.0_SpPoDir[128]-relu0(256x8)-CD-128-5-5_l1.0_10.0_RayMarchFromPoses_nSD[2_LSfCD_128_0.0](nerf(10-4))-relu1(256x80..63-7.63.)-RGBARayMarch (../configs/DONeRF_8_samples.ini)\n",
            "no Checkpoints found\n",
            "no Checkpoints found\n",
            "epoch=10000      loss=0.03595786:   3% 9999/300001 [04:02<1:53:03, 42.75it/s]\n",
            "Render img PSNR 0010000: 7.672621726989746\n",
            "\n",
            "epoch=20000      loss=0.03509306:   7% 19996/300001 [08:03<1:52:08, 41.62it/s]\n",
            "Render img PSNR 0020000: 7.610754489898682\n",
            "\n",
            "epoch=30000      loss=0.03478093:  10% 29998/300001 [12:04<1:46:06, 42.41it/s]\n",
            "Render img PSNR 0030000: 7.622249126434326\n",
            "\n",
            "epoch=40000      loss=0.02895998:  13% 39997/300001 [16:04<1:51:55, 38.72it/s]\n",
            "Render img PSNR 0040000: 7.6223649978637695\n",
            "\n",
            "epoch=50000      loss=0.02700318:  17% 49997/300001 [20:04<1:39:39, 41.81it/s]\n",
            "Render img PSNR 0050000: 7.622340202331543\n",
            "\n",
            "validating batch: 100% 15/15 [00:00<00:00, 47.25it/s]\n",
            "\n",
            "validation epoch=50000      loss=0.02786199 acc=0.00002747\n",
            "epoch=60000      loss=0.02825846:  20% 59996/300001 [24:13<1:40:08, 39.95it/s]\n",
            "Render img PSNR 0060000: 7.624866485595703\n",
            "\n",
            "epoch=70000      loss=0.02667128:  23% 69997/300001 [28:20<1:31:53, 41.72it/s]\n",
            "Render img PSNR 0070000: 7.628046989440918\n",
            "\n",
            "epoch=80000      loss=0.02598913:  27% 79998/300001 [32:27<1:29:24, 41.01it/s]\n",
            "Render img PSNR 0080000: 7.626109600067139\n",
            "\n",
            "epoch=90000      loss=0.02594822:  30% 89996/300001 [36:34<1:34:11, 37.16it/s]\n",
            "Render img PSNR 0090000: 7.618159770965576\n",
            "\n",
            "epoch=100000     loss=0.02719609:  33% 99996/300001 [40:40<1:19:45, 41.80it/s]\n",
            "Render img PSNR 0100000: 7.623962879180908\n",
            "\n",
            "validating batch: 100% 15/15 [00:00<00:00, 44.33it/s]\n",
            "\n",
            "validation epoch=100000     loss=0.02667876 acc=0.00002518\n",
            "epoch=110000     loss=0.02615855:  37% 109997/300001 [44:47<1:15:02, 42.20it/s]\n",
            "Render img PSNR 0110000: 7.624080657958984\n",
            "\n",
            "epoch=120000     loss=0.02474153:  40% 119997/300001 [48:54<1:16:46, 39.08it/s]\n",
            "Render img PSNR 0120000: 7.619237899780273\n",
            "\n",
            "epoch=130000     loss=0.02641545:  43% 129999/300001 [53:00<1:07:05, 42.23it/s]\n",
            "Render img PSNR 0130000: 7.626804351806641\n",
            "\n",
            "epoch=140000     loss=0.02541322:  47% 139999/300001 [57:07<1:04:19, 41.46it/s]\n",
            "Render img PSNR 0140000: 7.620579719543457\n",
            "\n",
            "epoch=150000     loss=0.02482712:  50% 149998/300001 [1:01:14<1:00:01, 41.66it/s]\n",
            "Render img PSNR 0150000: 7.627656936645508\n",
            "\n",
            "validating batch: 100% 15/15 [00:00<00:00, 40.30it/s]\n",
            "\n",
            "validation epoch=150000     loss=0.02636006 acc=0.00003026\n",
            "epoch=160000     loss=0.02587407:  53% 159998/300001 [1:05:22<55:46, 41.83it/s]\n",
            "Render img PSNR 0160000: 7.628644943237305\n",
            "\n",
            "epoch=170000     loss=0.02568487:  57% 169998/300001 [1:09:29<51:44, 41.88it/s]\n",
            "Render img PSNR 0170000: 7.63368558883667\n",
            "\n",
            "epoch=180000     loss=0.02529643:  60% 179998/300001 [1:13:36<49:24, 40.47it/s]\n",
            "Render img PSNR 0180000: 7.626046657562256\n",
            "\n",
            "epoch=190000     loss=0.02528064:  63% 189999/300001 [1:17:42<46:36, 39.34it/s]\n",
            "Render img PSNR 0190000: 7.626882553100586\n",
            "\n",
            "epoch=200000     loss=0.02442191:  67% 199996/300001 [1:21:49<39:35, 42.11it/s]\n",
            "Render img PSNR 0200000: 7.625583648681641\n",
            "\n",
            "validating batch: 100% 15/15 [00:00<00:00, 43.09it/s]\n",
            "\n",
            "validation epoch=200000     loss=0.02584574 acc=0.00002899\n",
            "epoch=210000     loss=0.02596494:  70% 209998/300001 [1:25:57<35:48, 41.89it/s]\n",
            "Render img PSNR 0210000: 7.617279052734375\n",
            "\n",
            "epoch=220000     loss=0.02525335:  73% 219996/300001 [1:30:03<34:19, 38.84it/s]\n",
            "Render img PSNR 0220000: 7.616948127746582\n",
            "\n",
            "epoch=230000     loss=0.02517414:  77% 229997/300001 [1:34:09<27:48, 41.97it/s]\n",
            "Render img PSNR 0230000: 7.631275653839111\n",
            "\n",
            "epoch=240000     loss=0.02460540:  80% 239996/300001 [1:38:15<23:52, 41.89it/s]\n",
            "Render img PSNR 0240000: 7.628659248352051\n",
            "\n",
            "epoch=250000     loss=0.02574018:  83% 249996/300001 [1:42:22<19:55, 41.84it/s]\n",
            "Render img PSNR 0250000: 7.625805854797363\n",
            "\n",
            "validating batch: 100% 15/15 [00:00<00:00, 44.96it/s]\n",
            "\n",
            "validation epoch=250000     loss=0.02570118 acc=0.00002721\n",
            "epoch=260000     loss=0.02535235:  87% 259998/300001 [1:46:30<19:40, 33.90it/s]\n",
            "Render img PSNR 0260000: 7.631706237792969\n",
            "\n",
            "epoch=270000     loss=0.02558476:  90% 269997/300001 [1:50:36<12:03, 41.45it/s]\n",
            "Render img PSNR 0270000: 7.631251335144043\n",
            "\n",
            "epoch=280000     loss=0.02410970:  93% 279995/300001 [1:54:42<08:02, 41.48it/s]\n",
            "Render img PSNR 0280000: 7.629523277282715\n",
            "\n",
            "epoch=290000     loss=0.02515483:  97% 289996/300001 [1:58:48<03:54, 42.60it/s]\n",
            "Render img PSNR 0290000: 7.6253132820129395\n",
            "\n",
            "epoch=300000     loss=0.02507499: 100% 299999/300001 [2:02:55<00:00, 42.26it/s]\n",
            "Render img PSNR 0300000: 7.624678611755371\n",
            "\n",
            "validating batch: 100% 15/15 [00:00<00:00, 44.44it/s]\n",
            "\n",
            "validation epoch=300000     loss=0.02553591 acc=0.00003153\n",
            "epoch=300001     loss=0.02445748: 100% 300001/300001 [2:02:58<00:00, 40.66it/s]\n",
            "Reloading Checkpoint from data/classroom/output_results/classroom/lo_l1.0_0.0_SpPoDir[128]-relu0(256x8)-CD-128-5-5_l1.0_10.0_RayMarchFromPoses_nSD[2_LSfCD_128_0.0](nerf(10-4))-relu1(256x80..63-7.63.)-RGBARayMarch/relu0(256x8)__opt.weights\n",
            "Reloading optimizer checkpoint from data/classroom/output_results/classroom/lo_l1.0_0.0_SpPoDir[128]-relu0(256x8)-CD-128-5-5_l1.0_10.0_RayMarchFromPoses_nSD[2_LSfCD_128_0.0](nerf(10-4))-relu1(256x80..63-7.63.)-RGBARayMarch/relu0(256x8)__opt.optimizer\n",
            "pre-training finished\n",
            "epoch=310000     loss=0.00125194 psnr=29.02415276:   3% 9996/300001 [04:50<2:18:51, 34.81it/s]\n",
            "Render img PSNR 0310000: 28.75472640991211\n",
            "\n",
            "epoch=320000     loss=0.00101391 psnr=29.93998528:   7% 19998/300001 [09:42<2:10:31, 35.75it/s]\n",
            "Render img PSNR 0320000: 29.60857391357422\n",
            "\n",
            "epoch=330000     loss=0.00124214 psnr=29.05830765:  10% 29999/300001 [14:33<2:08:00, 35.15it/s]\n",
            "Render img PSNR 0330000: 29.49736785888672\n",
            "\n",
            "epoch=340000     loss=0.00080005 psnr=30.96881485:  13% 39997/300001 [19:25<2:14:27, 32.23it/s]\n",
            "Render img PSNR 0340000: 30.583208084106445\n",
            "\n",
            "epoch=350000     loss=0.00089746 psnr=30.46986389:  17% 49997/300001 [24:16<1:57:44, 35.39it/s]\n",
            "Render img PSNR 0350000: 30.874401092529297\n",
            "\n",
            "validating batch: 100% 15/15 [00:00<00:00, 38.45it/s]\n",
            "\n",
            "validation epoch=350000     loss=0.00095674 acc=0.07821180\n",
            "rendering all images (val): 100% 30/30 [00:27<00:00,  1.11it/s]\n",
            "\n",
            "\n",
            "Render all img psnr 0 30.874401092529297\n",
            "Render all img psnr 1 30.636001586914062\n",
            "Render all img psnr 2 29.989639282226562\n",
            "Render all img psnr 3 29.351472854614258\n",
            "Render all img psnr 4 29.179603576660156\n",
            "Render all img psnr 5 32.478271484375\n",
            "Render all img psnr 6 29.3400936126709\n",
            "Render all img psnr 7 28.85774803161621\n",
            "Render all img psnr 8 31.7802791595459\n",
            "Render all img psnr 9 28.455230712890625\n",
            "Render all img psnr 10 30.143892288208008\n",
            "Render all img psnr 11 30.19900131225586\n",
            "Render all img psnr 12 28.383575439453125\n",
            "Render all img psnr 13 32.61260223388672\n",
            "Render all img psnr 14 30.48108673095703\n",
            "Render all img psnr 15 30.380985260009766\n",
            "Render all img psnr 16 30.154815673828125\n",
            "Render all img psnr 17 32.19321823120117\n",
            "Render all img psnr 18 29.092838287353516\n",
            "Render all img psnr 19 31.645721435546875\n",
            "Render all img psnr 20 31.112529754638672\n",
            "Render all img psnr 21 29.260982513427734\n",
            "Render all img psnr 22 29.793729782104492\n",
            "Render all img psnr 23 30.095012664794922\n",
            "Render all img psnr 24 30.81739616394043\n",
            "Render all img psnr 25 30.8070011138916\n",
            "Render all img psnr 26 31.509199142456055\n",
            "Render all img psnr 27 29.851255416870117\n",
            "Render all img psnr 28 29.995018005371094\n",
            "Render all img psnr 29 30.560243606567383\n",
            "Average PSNR: 30.33442497253418\n",
            "epoch=360000     loss=0.00101484 psnr=29.93604660:  20% 59998/300001 [29:35<1:54:59, 34.78it/s]\n",
            "Render img PSNR 0360000: 30.85148048400879\n",
            "\n",
            "epoch=370000     loss=0.00105217 psnr=29.77914047:  23% 69999/300001 [34:27<1:48:25, 35.36it/s]\n",
            "Render img PSNR 0370000: 30.465946197509766\n",
            "\n",
            "epoch=380000     loss=0.00076271 psnr=31.17639351:  27% 79998/300001 [39:16<1:42:49, 35.66it/s]\n",
            "Render img PSNR 0380000: 31.010522842407227\n",
            "\n",
            "epoch=390000     loss=0.00062729 psnr=32.02529144:  30% 89998/300001 [44:07<1:37:16, 35.98it/s]\n",
            "Render img PSNR 0390000: 30.878612518310547\n",
            "\n",
            "epoch=400000     loss=0.00089578 psnr=30.47800827:  33% 99998/300001 [48:57<1:35:01, 35.08it/s]\n",
            "Render img PSNR 0400000: 31.285232543945312\n",
            "\n",
            "validating batch: 100% 15/15 [00:00<00:00, 39.84it/s]\n",
            "\n",
            "validation epoch=400000     loss=0.00091205 acc=0.08227539\n",
            "rendering all images (val): 100% 30/30 [00:27<00:00,  1.11it/s]\n",
            "\n",
            "\n",
            "Render all img psnr 0 31.285232543945312\n",
            "Render all img psnr 1 31.074687957763672\n",
            "Render all img psnr 2 30.277236938476562\n",
            "Render all img psnr 3 29.781160354614258\n",
            "Render all img psnr 4 29.660627365112305\n",
            "Render all img psnr 5 32.91676330566406\n",
            "Render all img psnr 6 29.740764617919922\n",
            "Render all img psnr 7 29.27056121826172\n",
            "Render all img psnr 8 32.426116943359375\n",
            "Render all img psnr 9 28.876312255859375\n",
            "Render all img psnr 10 30.455638885498047\n",
            "Render all img psnr 11 30.50830841064453\n",
            "Render all img psnr 12 28.96366310119629\n",
            "Render all img psnr 13 33.25245666503906\n",
            "Render all img psnr 14 30.975725173950195\n",
            "Render all img psnr 15 30.81839370727539\n",
            "Render all img psnr 16 30.54798126220703\n",
            "Render all img psnr 17 32.54407501220703\n",
            "Render all img psnr 18 29.62325668334961\n",
            "Render all img psnr 19 32.34503936767578\n",
            "Render all img psnr 20 31.543087005615234\n",
            "Render all img psnr 21 29.706876754760742\n",
            "Render all img psnr 22 30.22252082824707\n",
            "Render all img psnr 23 30.655481338500977\n",
            "Render all img psnr 24 31.27692413330078\n",
            "Render all img psnr 25 31.37087631225586\n",
            "Render all img psnr 26 32.12285232543945\n",
            "Render all img psnr 27 30.140974044799805\n",
            "Render all img psnr 28 30.285972595214844\n",
            "Render all img psnr 29 31.03494644165039\n",
            "Average PSNR: 30.790149688720703\n",
            "epoch=410000     loss=0.00073211 psnr=31.35421944:  37% 109996/300001 [54:15<1:32:12, 34.34it/s]\n",
            "Render img PSNR 0410000: 31.565059661865234\n",
            "\n",
            "epoch=420000     loss=0.00060457 psnr=32.18553925:  40% 119999/300001 [59:05<1:24:28, 35.52it/s]\n",
            "Render img PSNR 0420000: 31.557815551757812\n",
            "\n",
            "epoch=430000     loss=0.00077794 psnr=31.09056664:  43% 129997/300001 [1:03:55<1:22:11, 34.47it/s]\n",
            "Render img PSNR 0430000: 31.617528915405273\n",
            "\n",
            "epoch=440000     loss=0.00084969 psnr=30.70740509:  47% 139998/300001 [1:08:44<1:16:16, 34.96it/s]\n",
            "Render img PSNR 0440000: 31.525590896606445\n",
            "\n",
            "epoch=450000     loss=0.00088053 psnr=30.55258179:  50% 149997/300001 [1:13:37<1:22:32, 30.29it/s]\n",
            "Render img PSNR 0450000: 31.60120964050293\n",
            "\n",
            "validating batch: 100% 15/15 [00:00<00:00, 40.52it/s]\n",
            "\n",
            "validation epoch=450000     loss=0.00085854 acc=0.09200303\n",
            "rendering all images (val): 100% 30/30 [00:26<00:00,  1.11it/s]\n",
            "\n",
            "\n",
            "Render all img psnr 0 31.60120964050293\n",
            "Render all img psnr 1 31.547529220581055\n",
            "Render all img psnr 2 30.595447540283203\n",
            "Render all img psnr 3 29.94119644165039\n",
            "Render all img psnr 4 29.858367919921875\n",
            "Render all img psnr 5 33.44914245605469\n",
            "Render all img psnr 6 30.02161407470703\n",
            "Render all img psnr 7 29.47258949279785\n",
            "Render all img psnr 8 32.65873718261719\n",
            "Render all img psnr 9 28.931480407714844\n",
            "Render all img psnr 10 30.765296936035156\n",
            "Render all img psnr 11 30.750654220581055\n",
            "Render all img psnr 12 29.101898193359375\n",
            "Render all img psnr 13 33.70494079589844\n",
            "Render all img psnr 14 31.24505615234375\n",
            "Render all img psnr 15 31.2056827545166\n",
            "Render all img psnr 16 30.91741943359375\n",
            "Render all img psnr 17 32.96608352661133\n",
            "Render all img psnr 18 29.730533599853516\n",
            "Render all img psnr 19 32.56196212768555\n",
            "Render all img psnr 20 32.07213592529297\n",
            "Render all img psnr 21 30.079593658447266\n",
            "Render all img psnr 22 30.629154205322266\n",
            "Render all img psnr 23 30.98003578186035\n",
            "Render all img psnr 24 31.534196853637695\n",
            "Render all img psnr 25 31.529373168945312\n",
            "Render all img psnr 26 32.37562561035156\n",
            "Render all img psnr 27 30.56452751159668\n",
            "Render all img psnr 28 30.697673797607422\n",
            "Render all img psnr 29 31.474761962890625\n",
            "Average PSNR: 31.09879493713379\n",
            "epoch=460000     loss=0.00064933 psnr=31.87535858:  53% 159998/300001 [1:18:54<1:07:19, 34.65it/s]\n",
            "Render img PSNR 0460000: 31.72233772277832\n",
            "\n",
            "epoch=470000     loss=0.00068848 psnr=31.62105751:  57% 169996/300001 [1:23:44<1:01:10, 35.42it/s]\n",
            "Render img PSNR 0470000: 31.34546661376953\n",
            "\n",
            "epoch=480000     loss=0.00060210 psnr=32.20328140:  60% 179999/300001 [1:28:34<57:24, 34.84it/s]\n",
            "Render img PSNR 0480000: 31.616849899291992\n",
            "\n",
            "epoch=490000     loss=0.00055059 psnr=32.59174728:  63% 189997/300001 [1:33:24<55:49, 32.84it/s]\n",
            "Render img PSNR 0490000: 31.91514015197754\n",
            "\n",
            "epoch=500000     loss=0.00063570 psnr=31.96746635:  67% 199999/300001 [1:38:15<47:46, 34.89it/s]\n",
            "Render img PSNR 0500000: 32.055057525634766\n",
            "\n",
            "validating batch: 100% 15/15 [00:00<00:00, 39.67it/s]\n",
            "\n",
            "validation epoch=500000     loss=0.00074165 acc=0.09762371\n",
            "rendering all images (val): 100% 30/30 [00:26<00:00,  1.12it/s]\n",
            "\n",
            "\n",
            "Render all img psnr 0 32.055057525634766\n",
            "Render all img psnr 1 31.891115188598633\n",
            "Render all img psnr 2 30.866106033325195\n",
            "Render all img psnr 3 30.34796714782715\n",
            "Render all img psnr 4 30.108051300048828\n",
            "Render all img psnr 5 34.0230598449707\n",
            "Render all img psnr 6 30.309917449951172\n",
            "Render all img psnr 7 29.6544189453125\n",
            "Render all img psnr 8 33.35380172729492\n",
            "Render all img psnr 9 29.236114501953125\n",
            "Render all img psnr 10 31.132108688354492\n",
            "Render all img psnr 11 31.1412353515625\n",
            "Render all img psnr 12 29.45195198059082\n",
            "Render all img psnr 13 34.41286849975586\n",
            "Render all img psnr 14 31.59638214111328\n",
            "Render all img psnr 15 31.606586456298828\n",
            "Render all img psnr 16 31.311567306518555\n",
            "Render all img psnr 17 33.51756286621094\n",
            "Render all img psnr 18 30.2031307220459\n",
            "Render all img psnr 19 33.11743927001953\n",
            "Render all img psnr 20 32.516357421875\n",
            "Render all img psnr 21 30.206201553344727\n",
            "Render all img psnr 22 30.835548400878906\n",
            "Render all img psnr 23 31.51230812072754\n",
            "Render all img psnr 24 32.04286193847656\n",
            "Render all img psnr 25 32.04441452026367\n",
            "Render all img psnr 26 32.915443420410156\n",
            "Render all img psnr 27 30.842714309692383\n",
            "Render all img psnr 28 30.929580688476562\n",
            "Render all img psnr 29 31.975650787353516\n",
            "Average PSNR: 31.505250930786133\n",
            "epoch=510000     loss=0.00081601 psnr=30.88303375:  70% 209996/300001 [1:43:34<42:25, 35.36it/s]\n",
            "Render img PSNR 0510000: 32.233680725097656\n",
            "\n",
            "epoch=520000     loss=0.00090581 psnr=30.42961121:  73% 219999/300001 [1:48:24<37:54, 35.17it/s]\n",
            "Render img PSNR 0520000: 31.98983383178711\n",
            "\n",
            "epoch=530000     loss=0.00057221 psnr=32.42447281:  77% 229999/300001 [1:53:14<38:05, 30.63it/s]\n",
            "Render img PSNR 0530000: 32.21067810058594\n",
            "\n",
            "epoch=540000     loss=0.00059459 psnr=32.25779724:  80% 239998/300001 [1:58:04<28:33, 35.02it/s]\n",
            "Render img PSNR 0540000: 32.34715270996094\n",
            "\n",
            "epoch=550000     loss=0.00065544 psnr=31.83463860:  83% 249998/300001 [2:02:54<23:12, 35.92it/s]\n",
            "Render img PSNR 0550000: 32.1094856262207\n",
            "\n",
            "validating batch: 100% 15/15 [00:00<00:00, 39.82it/s]\n",
            "\n",
            "validation epoch=550000     loss=0.00074064 acc=0.09798719\n",
            "rendering all images (val): 100% 30/30 [00:27<00:00,  1.11it/s]\n",
            "\n",
            "\n",
            "Render all img psnr 0 32.1094856262207\n",
            "Render all img psnr 1 32.03124237060547\n",
            "Render all img psnr 2 31.02749252319336\n",
            "Render all img psnr 3 30.406280517578125\n",
            "Render all img psnr 4 30.20432472229004\n",
            "Render all img psnr 5 34.194217681884766\n",
            "Render all img psnr 6 30.528488159179688\n",
            "Render all img psnr 7 29.71645736694336\n",
            "Render all img psnr 8 33.384521484375\n",
            "Render all img psnr 9 29.21377944946289\n",
            "Render all img psnr 10 31.302921295166016\n",
            "Render all img psnr 11 31.085060119628906\n",
            "Render all img psnr 12 29.514293670654297\n",
            "Render all img psnr 13 34.493324279785156\n",
            "Render all img psnr 14 31.792909622192383\n",
            "Render all img psnr 15 31.855554580688477\n",
            "Render all img psnr 16 31.301883697509766\n",
            "Render all img psnr 17 33.65589141845703\n",
            "Render all img psnr 18 30.26523208618164\n",
            "Render all img psnr 19 33.193870544433594\n",
            "Render all img psnr 20 32.772186279296875\n",
            "Render all img psnr 21 30.23682403564453\n",
            "Render all img psnr 22 31.07465934753418\n",
            "Render all img psnr 23 31.817951202392578\n",
            "Render all img psnr 24 32.040897369384766\n",
            "Render all img psnr 25 32.10228729248047\n",
            "Render all img psnr 26 33.128780364990234\n",
            "Render all img psnr 27 30.909690856933594\n",
            "Render all img psnr 28 30.986997604370117\n",
            "Render all img psnr 29 32.088600158691406\n",
            "Average PSNR: 31.61453628540039\n",
            "epoch=560000     loss=0.00044162 psnr=33.54947662:  87% 259998/300001 [2:08:13<19:06, 34.89it/s]\n",
            "Render img PSNR 0560000: 32.30604934692383\n",
            "\n",
            "epoch=570000     loss=0.00055669 psnr=32.54387283:  90% 269998/300001 [2:13:18<17:49, 28.05it/s]\n",
            "Render img PSNR 0570000: 32.29659652709961\n",
            "\n",
            "epoch=580000     loss=0.00045401 psnr=33.42934799:  93% 279999/300001 [2:18:48<10:17, 32.40it/s]\n",
            "Render img PSNR 0580000: 32.34371566772461\n",
            "\n",
            "epoch=590000     loss=0.00062129 psnr=32.06705856:  97% 289999/300001 [2:24:06<05:02, 33.03it/s]\n",
            "Render img PSNR 0590000: 32.337276458740234\n",
            "\n",
            "epoch=600000     loss=0.00058653 psnr=32.31706238: 100% 299998/300001 [2:29:28<00:00, 31.47it/s]\n",
            "Render img PSNR 0600000: 32.410491943359375\n",
            "\n",
            "validating batch: 100% 15/15 [00:00<00:00, 36.30it/s]\n",
            "\n",
            "validation epoch=600000     loss=0.00071258 acc=0.10231662\n",
            "rendering all images (val): 100% 30/30 [00:28<00:00,  1.04it/s]\n",
            "\n",
            "\n",
            "Render all img psnr 0 32.410491943359375\n",
            "Render all img psnr 1 32.22774124145508\n",
            "Render all img psnr 2 31.071361541748047\n",
            "Render all img psnr 3 30.59640884399414\n",
            "Render all img psnr 4 30.252017974853516\n",
            "Render all img psnr 5 34.34125900268555\n",
            "Render all img psnr 6 30.541168212890625\n",
            "Render all img psnr 7 29.881677627563477\n",
            "Render all img psnr 8 33.690834045410156\n",
            "Render all img psnr 9 29.333951950073242\n",
            "Render all img psnr 10 31.38117790222168\n",
            "Render all img psnr 11 31.300708770751953\n",
            "Render all img psnr 12 29.638500213623047\n",
            "Render all img psnr 13 34.79312515258789\n",
            "Render all img psnr 14 31.914276123046875\n",
            "Render all img psnr 15 31.922279357910156\n",
            "Render all img psnr 16 31.608638763427734\n",
            "Render all img psnr 17 33.841495513916016\n",
            "Render all img psnr 18 30.423091888427734\n",
            "Render all img psnr 19 33.28361892700195\n",
            "Render all img psnr 20 32.86552810668945\n",
            "Render all img psnr 21 30.462553024291992\n",
            "Render all img psnr 22 31.163482666015625\n",
            "Render all img psnr 23 31.942340850830078\n",
            "Render all img psnr 24 32.31104278564453\n",
            "Render all img psnr 25 32.4181022644043\n",
            "Render all img psnr 26 33.27676010131836\n",
            "Render all img psnr 27 31.064054489135742\n",
            "Render all img psnr 28 31.18840217590332\n",
            "Render all img psnr 29 32.331607818603516\n",
            "Average PSNR: 31.7825870513916\n",
            "epoch=600001     loss=0.00067519 psnr=31.70577049: 100% 300001/300001 [2:30:01<00:00, 33.33it/s]\n",
            "Generating diff and flip images: 100% 60/60 [00:10<00:00,  5.67it/s]\n",
            "Saving diff and flip images: 100% 60/60 [00:12<00:00,  4.65it/s]\n"
          ]
        }
      ],
      "source": [
        "!python train.py -c ../configs/DONeRF_8_samples.ini --data data/classroom/ --logDir data/output_results/ --device 0 --storeFullData"
      ]
    },
    {
      "cell_type": "markdown",
      "metadata": {
        "id": "JSBre2RcziEP"
      },
      "source": [
        "## Test"
      ]
    },
    {
      "cell_type": "code",
      "execution_count": 19,
      "metadata": {
        "colab": {
          "base_uri": "https://localhost:8080/"
        },
        "id": "eZZUQAaj_etD",
        "outputId": "1ae58bfb-7026-403e-82e5-276435d52346"
      },
      "outputs": [
        {
          "name": "stdout",
          "output_type": "stream",
          "text": [
            "device Tesla V100-SXM2-16GB\n",
            "WARNING! - import of cuda kernels for 'disc_depth_multiclass' failed - falling back to PyTorch\n",
            "Loading dataset train: 100% 210/210 [00:08<00:00, 26.22it/s]\n",
            "Loading dataset val  : 100% 30/30 [00:01<00:00, 26.52it/s]\n",
            "Loading dataset test : 100% 60/60 [00:02<00:00, 26.98it/s]\n",
            "no Checkpoints found\n",
            "no Checkpoints found\n",
            "no Checkpoints found\n",
            "no Checkpoints found\n",
            "\n",
            "Render img PSNR test_0: 11.660627365112305\n",
            "\n",
            "rendering all images (train): 100% 210/210 [03:11<00:00,  1.10it/s]\n",
            "\n",
            "\n",
            "Render all img psnr 0 10.804645538330078\n",
            "Render all img psnr 1 10.451717376708984\n",
            "Render all img psnr 2 11.387083053588867\n",
            "Render all img psnr 3 10.280086517333984\n",
            "Render all img psnr 4 10.659235954284668\n",
            "Render all img psnr 5 10.887312889099121\n",
            "Render all img psnr 6 9.884410858154297\n",
            "Render all img psnr 7 10.593437194824219\n",
            "Render all img psnr 8 11.187919616699219\n",
            "Render all img psnr 9 10.532818794250488\n",
            "Render all img psnr 10 10.73770523071289\n",
            "Render all img psnr 11 11.765588760375977\n",
            "Render all img psnr 12 10.193586349487305\n",
            "Render all img psnr 13 11.473791122436523\n",
            "Render all img psnr 14 10.311492919921875\n",
            "Render all img psnr 15 10.714803695678711\n",
            "Render all img psnr 16 10.74776840209961\n",
            "Render all img psnr 17 10.508203506469727\n",
            "Render all img psnr 18 9.828657150268555\n",
            "Render all img psnr 19 9.795305252075195\n",
            "Render all img psnr 20 10.179498672485352\n",
            "Render all img psnr 21 10.627397537231445\n",
            "Render all img psnr 22 10.679682731628418\n",
            "Render all img psnr 23 11.190080642700195\n",
            "Render all img psnr 24 10.690274238586426\n",
            "Render all img psnr 25 9.763226509094238\n",
            "Render all img psnr 26 10.896675109863281\n",
            "Render all img psnr 27 11.206656455993652\n",
            "Render all img psnr 28 11.658186912536621\n",
            "Render all img psnr 29 10.458948135375977\n",
            "Render all img psnr 30 9.893792152404785\n",
            "Render all img psnr 31 10.120038986206055\n",
            "Render all img psnr 32 10.430445671081543\n",
            "Render all img psnr 33 10.038126945495605\n",
            "Render all img psnr 34 11.430919647216797\n",
            "Render all img psnr 35 11.398658752441406\n",
            "Render all img psnr 36 10.533944129943848\n",
            "Render all img psnr 37 11.271039009094238\n",
            "Render all img psnr 38 11.351243019104004\n",
            "Render all img psnr 39 11.103364944458008\n",
            "Render all img psnr 40 11.561595916748047\n",
            "Render all img psnr 41 11.297173500061035\n",
            "Render all img psnr 42 10.910457611083984\n",
            "Render all img psnr 43 10.567806243896484\n",
            "Render all img psnr 44 10.26710319519043\n",
            "Render all img psnr 45 10.398077011108398\n",
            "Render all img psnr 46 10.568285942077637\n",
            "Render all img psnr 47 10.427227020263672\n",
            "Render all img psnr 48 10.69623851776123\n",
            "Render all img psnr 49 11.08005428314209\n",
            "Render all img psnr 50 9.84170150756836\n",
            "Render all img psnr 51 10.579570770263672\n",
            "Render all img psnr 52 11.391773223876953\n",
            "Render all img psnr 53 11.79288101196289\n",
            "Render all img psnr 54 11.911717414855957\n",
            "Render all img psnr 55 10.918388366699219\n",
            "Render all img psnr 56 10.281825065612793\n",
            "Render all img psnr 57 10.919563293457031\n",
            "Render all img psnr 58 10.039878845214844\n",
            "Render all img psnr 59 10.035799026489258\n",
            "Render all img psnr 60 10.646510124206543\n",
            "Render all img psnr 61 11.744644165039062\n",
            "Render all img psnr 62 10.106095314025879\n",
            "Render all img psnr 63 10.442256927490234\n",
            "Render all img psnr 64 11.05188274383545\n",
            "Render all img psnr 65 10.013967514038086\n",
            "Render all img psnr 66 10.28171443939209\n",
            "Render all img psnr 67 10.45151138305664\n",
            "Render all img psnr 68 10.37055778503418\n",
            "Render all img psnr 69 10.50764274597168\n",
            "Render all img psnr 70 10.500245094299316\n",
            "Render all img psnr 71 10.603910446166992\n",
            "Render all img psnr 72 11.382675170898438\n",
            "Render all img psnr 73 11.754619598388672\n",
            "Render all img psnr 74 10.472359657287598\n",
            "Render all img psnr 75 10.358582496643066\n",
            "Render all img psnr 76 9.973016738891602\n",
            "Render all img psnr 77 11.193734169006348\n",
            "Render all img psnr 78 10.29456901550293\n",
            "Render all img psnr 79 11.3429536819458\n",
            "Render all img psnr 80 12.055046081542969\n",
            "Render all img psnr 81 10.271239280700684\n",
            "Render all img psnr 82 10.47507095336914\n",
            "Render all img psnr 83 10.776348114013672\n",
            "Render all img psnr 84 10.778751373291016\n",
            "Render all img psnr 85 11.415529251098633\n",
            "Render all img psnr 86 10.821562767028809\n",
            "Render all img psnr 87 10.289183616638184\n",
            "Render all img psnr 88 10.839004516601562\n",
            "Render all img psnr 89 9.885190963745117\n",
            "Render all img psnr 90 10.597244262695312\n",
            "Render all img psnr 91 10.333612442016602\n",
            "Render all img psnr 92 11.908842086791992\n",
            "Render all img psnr 93 10.190357208251953\n",
            "Render all img psnr 94 11.503057479858398\n",
            "Render all img psnr 95 11.483384132385254\n",
            "Render all img psnr 96 11.528763771057129\n",
            "Render all img psnr 97 10.449725151062012\n",
            "Render all img psnr 98 11.40540599822998\n",
            "Render all img psnr 99 11.182361602783203\n",
            "Render all img psnr 100 10.180444717407227\n",
            "Render all img psnr 101 10.780067443847656\n",
            "Render all img psnr 102 10.19796371459961\n",
            "Render all img psnr 103 10.737419128417969\n",
            "Render all img psnr 104 11.532855033874512\n",
            "Render all img psnr 105 10.362000465393066\n",
            "Render all img psnr 106 10.840042114257812\n",
            "Render all img psnr 107 11.80590534210205\n",
            "Render all img psnr 108 10.786487579345703\n",
            "Render all img psnr 109 10.3906831741333\n",
            "Render all img psnr 110 11.787641525268555\n",
            "Render all img psnr 111 10.760408401489258\n",
            "Render all img psnr 112 11.085159301757812\n",
            "Render all img psnr 113 10.092988014221191\n",
            "Render all img psnr 114 10.75656795501709\n",
            "Render all img psnr 115 11.396695137023926\n",
            "Render all img psnr 116 10.610018730163574\n",
            "Render all img psnr 117 10.248802185058594\n",
            "Render all img psnr 118 10.68769359588623\n",
            "Render all img psnr 119 11.861074447631836\n",
            "Render all img psnr 120 9.703489303588867\n",
            "Render all img psnr 121 10.51159954071045\n",
            "Render all img psnr 122 10.31848430633545\n",
            "Render all img psnr 123 10.39647102355957\n",
            "Render all img psnr 124 10.519901275634766\n",
            "Render all img psnr 125 10.444774627685547\n",
            "Render all img psnr 126 11.48536205291748\n",
            "Render all img psnr 127 9.794309616088867\n",
            "Render all img psnr 128 9.882227897644043\n",
            "Render all img psnr 129 10.738419532775879\n",
            "Render all img psnr 130 10.226768493652344\n",
            "Render all img psnr 131 9.95156478881836\n",
            "Render all img psnr 132 11.114863395690918\n",
            "Render all img psnr 133 11.550580024719238\n",
            "Render all img psnr 134 10.933988571166992\n",
            "Render all img psnr 135 10.958295822143555\n",
            "Render all img psnr 136 10.477588653564453\n",
            "Render all img psnr 137 11.074264526367188\n",
            "Render all img psnr 138 11.159857749938965\n",
            "Render all img psnr 139 10.95351791381836\n",
            "Render all img psnr 140 11.567584037780762\n",
            "Render all img psnr 141 10.416855812072754\n",
            "Render all img psnr 142 11.01574420928955\n",
            "Render all img psnr 143 10.464332580566406\n",
            "Render all img psnr 144 11.00192642211914\n",
            "Render all img psnr 145 11.105056762695312\n",
            "Render all img psnr 146 10.455817222595215\n",
            "Render all img psnr 147 11.425939559936523\n",
            "Render all img psnr 148 10.506361961364746\n",
            "Render all img psnr 149 10.79301929473877\n",
            "Render all img psnr 150 9.763330459594727\n",
            "Render all img psnr 151 11.11159896850586\n",
            "Render all img psnr 152 10.515366554260254\n",
            "Render all img psnr 153 10.679816246032715\n",
            "Render all img psnr 154 11.26646900177002\n",
            "Render all img psnr 155 10.701495170593262\n",
            "Render all img psnr 156 10.174253463745117\n",
            "Render all img psnr 157 11.527972221374512\n",
            "Render all img psnr 158 9.840483665466309\n",
            "Render all img psnr 159 11.385765075683594\n",
            "Render all img psnr 160 10.893308639526367\n",
            "Render all img psnr 161 10.650470733642578\n",
            "Render all img psnr 162 11.212850570678711\n",
            "Render all img psnr 163 10.609201431274414\n",
            "Render all img psnr 164 12.049240112304688\n",
            "Render all img psnr 165 9.795853614807129\n",
            "Render all img psnr 166 10.10909652709961\n",
            "Render all img psnr 167 11.521882057189941\n",
            "Render all img psnr 168 11.770109176635742\n",
            "Render all img psnr 169 11.534628868103027\n",
            "Render all img psnr 170 9.822906494140625\n",
            "Render all img psnr 171 11.220695495605469\n",
            "Render all img psnr 172 10.163021087646484\n",
            "Render all img psnr 173 10.413216590881348\n",
            "Render all img psnr 174 10.738106727600098\n",
            "Render all img psnr 175 10.628080368041992\n",
            "Render all img psnr 176 10.560731887817383\n",
            "Render all img psnr 177 11.067933082580566\n",
            "Render all img psnr 178 11.583880424499512\n",
            "Render all img psnr 179 10.043120384216309\n",
            "Render all img psnr 180 10.478618621826172\n",
            "Render all img psnr 181 10.326193809509277\n",
            "Render all img psnr 182 10.639755249023438\n",
            "Render all img psnr 183 10.72146987915039\n",
            "Render all img psnr 184 11.153168678283691\n",
            "Render all img psnr 185 11.113582611083984\n",
            "Render all img psnr 186 9.90320873260498\n",
            "Render all img psnr 187 11.268508911132812\n",
            "Render all img psnr 188 10.2984619140625\n",
            "Render all img psnr 189 10.247024536132812\n",
            "Render all img psnr 190 11.76930046081543\n",
            "Render all img psnr 191 10.70198917388916\n",
            "Render all img psnr 192 10.726633071899414\n",
            "Render all img psnr 193 10.074541091918945\n",
            "Render all img psnr 194 10.833580017089844\n",
            "Render all img psnr 195 11.15688419342041\n",
            "Render all img psnr 196 11.536913871765137\n",
            "Render all img psnr 197 9.933365821838379\n",
            "Render all img psnr 198 11.399772644042969\n",
            "Render all img psnr 199 10.865680694580078\n",
            "Render all img psnr 200 11.550127029418945\n",
            "Render all img psnr 201 10.311668395996094\n",
            "Render all img psnr 202 10.36482048034668\n",
            "Render all img psnr 203 9.982892036437988\n",
            "Render all img psnr 204 11.004570007324219\n",
            "Render all img psnr 205 9.757918357849121\n",
            "Render all img psnr 206 11.016158103942871\n",
            "Render all img psnr 207 10.750232696533203\n",
            "Render all img psnr 208 10.779284477233887\n",
            "Render all img psnr 209 10.053404808044434\n",
            "Average PSNR: 10.746487617492676\n",
            "rendering all images (val): 100% 30/30 [00:27<00:00,  1.10it/s]\n",
            "\n",
            "\n",
            "Render all img psnr 0 10.470866203308105\n",
            "Render all img psnr 1 11.040395736694336\n",
            "Render all img psnr 2 11.074061393737793\n",
            "Render all img psnr 3 10.211355209350586\n",
            "Render all img psnr 4 11.410479545593262\n",
            "Render all img psnr 5 10.96733570098877\n",
            "Render all img psnr 6 11.195425987243652\n",
            "Render all img psnr 7 10.526515007019043\n",
            "Render all img psnr 8 11.05721664428711\n",
            "Render all img psnr 9 10.390759468078613\n",
            "Render all img psnr 10 11.801279067993164\n",
            "Render all img psnr 11 10.93600845336914\n",
            "Render all img psnr 12 9.996243476867676\n",
            "Render all img psnr 13 11.483720779418945\n",
            "Render all img psnr 14 10.42573070526123\n",
            "Render all img psnr 15 10.957226753234863\n",
            "Render all img psnr 16 10.64159870147705\n",
            "Render all img psnr 17 11.14114761352539\n",
            "Render all img psnr 18 11.024685859680176\n",
            "Render all img psnr 19 10.496392250061035\n",
            "Render all img psnr 20 10.983856201171875\n",
            "Render all img psnr 21 10.164621353149414\n",
            "Render all img psnr 22 11.428984642028809\n",
            "Render all img psnr 23 11.13296890258789\n",
            "Render all img psnr 24 10.752044677734375\n",
            "Render all img psnr 25 10.56282901763916\n",
            "Render all img psnr 26 10.457151412963867\n",
            "Render all img psnr 27 10.291695594787598\n",
            "Render all img psnr 28 10.291451454162598\n",
            "Render all img psnr 29 11.060832977294922\n",
            "Average PSNR: 10.812495231628418\n",
            "rendering all images (test): 100% 60/60 [00:54<00:00,  1.10it/s]\n",
            "\n",
            "\n",
            "Render all img psnr 0 11.660627365112305\n",
            "Render all img psnr 1 10.39085865020752\n",
            "Render all img psnr 2 11.252969741821289\n",
            "Render all img psnr 3 11.540680885314941\n",
            "Render all img psnr 4 10.985877990722656\n",
            "Render all img psnr 5 10.711515426635742\n",
            "Render all img psnr 6 10.437124252319336\n",
            "Render all img psnr 7 11.086535453796387\n",
            "Render all img psnr 8 11.221108436584473\n",
            "Render all img psnr 9 10.865912437438965\n",
            "Render all img psnr 10 10.402264595031738\n",
            "Render all img psnr 11 11.286310195922852\n",
            "Render all img psnr 12 10.89937973022461\n",
            "Render all img psnr 13 11.639074325561523\n",
            "Render all img psnr 14 10.192861557006836\n",
            "Render all img psnr 15 11.250213623046875\n",
            "Render all img psnr 16 10.197586059570312\n",
            "Render all img psnr 17 9.761590003967285\n",
            "Render all img psnr 18 11.140327453613281\n",
            "Render all img psnr 19 11.09487533569336\n",
            "Render all img psnr 20 10.501625061035156\n",
            "Render all img psnr 21 10.67731761932373\n",
            "Render all img psnr 22 11.017788887023926\n",
            "Render all img psnr 23 11.094660758972168\n",
            "Render all img psnr 24 9.815857887268066\n",
            "Render all img psnr 25 10.30599594116211\n",
            "Render all img psnr 26 11.443496704101562\n",
            "Render all img psnr 27 9.843743324279785\n",
            "Render all img psnr 28 9.94469928741455\n",
            "Render all img psnr 29 10.913496017456055\n",
            "Render all img psnr 30 11.58358097076416\n",
            "Render all img psnr 31 10.624232292175293\n",
            "Render all img psnr 32 10.620965957641602\n",
            "Render all img psnr 33 11.098037719726562\n",
            "Render all img psnr 34 10.006614685058594\n",
            "Render all img psnr 35 9.57804012298584\n",
            "Render all img psnr 36 10.158449172973633\n",
            "Render all img psnr 37 11.102190971374512\n",
            "Render all img psnr 38 9.954774856567383\n",
            "Render all img psnr 39 10.279078483581543\n",
            "Render all img psnr 40 10.194299697875977\n",
            "Render all img psnr 41 9.962998390197754\n",
            "Render all img psnr 42 10.751426696777344\n",
            "Render all img psnr 43 10.933438301086426\n",
            "Render all img psnr 44 10.611104965209961\n",
            "Render all img psnr 45 11.196328163146973\n",
            "Render all img psnr 46 11.757585525512695\n",
            "Render all img psnr 47 10.952544212341309\n",
            "Render all img psnr 48 10.25011157989502\n",
            "Render all img psnr 49 9.692148208618164\n",
            "Render all img psnr 50 10.764966011047363\n",
            "Render all img psnr 51 10.777817726135254\n",
            "Render all img psnr 52 10.291807174682617\n",
            "Render all img psnr 53 10.445716857910156\n",
            "Render all img psnr 54 10.502482414245605\n",
            "Render all img psnr 55 11.552671432495117\n",
            "Render all img psnr 56 11.489181518554688\n",
            "Render all img psnr 57 11.482154846191406\n",
            "Render all img psnr 58 9.906633377075195\n",
            "Render all img psnr 59 10.40544319152832\n",
            "Average PSNR: 10.70838737487793\n",
            "rendering video cam_path_rotate: 100% 161/161 [02:21<00:00,  1.14it/s]\n"
          ]
        }
      ],
      "source": [
        "!python test.py -c ../configs/DONeRF_8_samples.ini --data data/classroom/ --logDir data/output_results/ --device 0 --storeFullData --camPath cam_path_rotate --outputVideoName cam_path_rotate --videoFrames 300"
      ]
    },
    {
      "cell_type": "markdown",
      "metadata": {
        "id": "nlK7oO_zzYti"
      },
      "source": [
        "# KiloNeRF Experiment\n",
        "## Train"
      ]
    },
    {
      "cell_type": "code",
      "execution_count": null,
      "metadata": {
        "id": "QUNOLni4zbkF"
      },
      "outputs": [],
      "source": [
        "!python train.py -c ../configs/KiloNeRF_8_samples_log_warp.ini --data data/classroom/ --logDir data/output_results/ --device 0 --storeFullData"
      ]
    },
    {
      "cell_type": "markdown",
      "metadata": {
        "id": "FfXFKbpRzj8T"
      },
      "source": [
        "## Test"
      ]
    },
    {
      "cell_type": "code",
      "execution_count": null,
      "metadata": {
        "id": "vSB1G_dlzk-n"
      },
      "outputs": [],
      "source": [
        "!python test.py -c ../configs/KiloNeRF_8_samples_log_warp.ini --data data/classroom/ --logDir data/output_results/ --device 0 --storeFullData --camPath cam_path_rotate --outputVideoName cam_path_rotate --videoFrames 300"
      ]
    },
    {
      "cell_type": "markdown",
      "metadata": {
        "id": "rKUXhSML6cMJ"
      },
      "source": [
        "# Simple NeRF Variant\n",
        "## Train"
      ]
    },
    {
      "cell_type": "code",
      "execution_count": null,
      "metadata": {
        "id": "Z3_xer326jrz"
      },
      "outputs": [],
      "source": [
        "!python train.py -c ../configs/NeRF_coarse_only_128_samples_log_warp.ini --data data/classroom/ --logDir data/output_results/ --device 0 --storeFullData --epochs 30001"
      ]
    },
    {
      "cell_type": "markdown",
      "metadata": {
        "id": "a4myaABP6302"
      },
      "source": [
        "## Test"
      ]
    },
    {
      "cell_type": "code",
      "execution_count": null,
      "metadata": {
        "id": "3yulk2_T6qxd"
      },
      "outputs": [],
      "source": [
        "!python test.py -c ../configs/NeRF_coarse_only_128_samples_log_warp.ini --data data/classroom/ --logDir data/output_results/ --device 0 --storeFullData --camPath cam_path_rotate --outputVideoName cam_path_rotate --videoFrames 300"
      ]
    }
  ],
  "metadata": {
    "accelerator": "GPU",
    "colab": {
      "gpuType": "V100",
      "machine_shape": "hm",
      "provenance": []
    },
    "kernelspec": {
      "display_name": "Python 3",
      "name": "python3"
    },
    "language_info": {
      "name": "python"
    }
  },
  "nbformat": 4,
  "nbformat_minor": 0
}
