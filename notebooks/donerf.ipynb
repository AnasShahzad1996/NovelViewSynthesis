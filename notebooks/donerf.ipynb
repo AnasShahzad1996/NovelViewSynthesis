{
  "cells": [
    {
      "cell_type": "markdown",
      "metadata": {
        "id": "MkwYKB5Ph4e1"
      },
      "source": [
        "# Import Project"
      ]
    },
    {
      "cell_type": "code",
      "execution_count": null,
      "metadata": {
        "colab": {
          "base_uri": "https://localhost:8080/"
        },
        "id": "xa75iX0xhTm-",
        "outputId": "52e37f38-e6a4-4304-b613-09c84a8e7914"
      },
      "outputs": [
        {
          "name": "stdout",
          "output_type": "stream",
          "text": [
            "Cloning into 'novel_view_synthesis'...\n",
            "remote: Enumerating objects: 541, done.\u001b[K\n",
            "remote: Counting objects: 100% (74/74), done.\u001b[K\n",
            "remote: Compressing objects: 100% (57/57), done.\u001b[K\n",
            "remote: Total 541 (delta 20), reused 64 (delta 15), pack-reused 467\u001b[K\n",
            "Receiving objects: 100% (541/541), 38.77 MiB | 35.20 MiB/s, done.\n",
            "Resolving deltas: 100% (210/210), done.\n"
          ]
        }
      ],
      "source": [
        "import os\n",
        "import sys\n",
        "import torch\n",
        "\n",
        "!git clone https://github.com/AnasShahzad1996/novel_view_synthesis.git"
      ]
    },
    {
      "cell_type": "code",
      "execution_count": null,
      "metadata": {
        "colab": {
          "base_uri": "https://localhost:8080/"
        },
        "id": "hGSfrsdjhfEt",
        "outputId": "14b55221-4bc0-479c-8edd-e787278c975b"
      },
      "outputs": [
        {
          "name": "stdout",
          "output_type": "stream",
          "text": [
            "CUDA availability: True\n"
          ]
        }
      ],
      "source": [
        "project_path = '/content/novel_view_synthesis/src'\n",
        "os.chdir(project_path)\n",
        "sys.path.insert(1, project_path)\n",
        "print('CUDA availability:', torch.cuda.is_available())\n",
        "!git checkout donerf"
      ]
    },
    {
      "cell_type": "code",
      "execution_count": null,
      "metadata": {
        "id": "XxQOfC5D1k8S"
      },
      "outputs": [],
      "source": [
        "!nvidia-smi"
      ]
    },
    {
      "cell_type": "code",
      "execution_count": null,
      "metadata": {
        "colab": {
          "base_uri": "https://localhost:8080/"
        },
        "id": "etR3tWRK2NGE",
        "outputId": "6b8c5e8d-d429-402a-eaa4-a65366b36a1c"
      },
      "outputs": [
        {
          "name": "stdout",
          "output_type": "stream",
          "text": [
            "nvcc: NVIDIA (R) Cuda compiler driver\n",
            "Copyright (c) 2005-2022 NVIDIA Corporation\n",
            "Built on Wed_Sep_21_10:33:58_PDT_2022\n",
            "Cuda compilation tools, release 11.8, V11.8.89\n",
            "Build cuda_11.8.r11.8/compiler.31833905_0\n"
          ]
        }
      ],
      "source": [
        "!nvcc --version"
      ]
    },
    {
      "cell_type": "markdown",
      "metadata": {
        "id": "LUrOVN0j1mwn"
      },
      "source": [
        "# Project Setup"
      ]
    },
    {
      "cell_type": "code",
      "execution_count": null,
      "metadata": {
        "id": "BGGorI5shoje"
      },
      "outputs": [],
      "source": [
        "!cd src && python -m pip install -r requirements.txt"
      ]
    },
    {
      "cell_type": "code",
      "execution_count": null,
      "metadata": {
        "id": "MREEoTrm1hz2"
      },
      "outputs": [],
      "source": [
        "#!apt install gfortran libopenblas-dev"
      ]
    },
    {
      "cell_type": "code",
      "execution_count": null,
      "metadata": {
        "id": "8QxDogMg2Yi5"
      },
      "outputs": [],
      "source": [
        "!wget http://icl.utk.edu/projectsfiles/magma/downloads/magma-2.5.4.tar.gz\n",
        "!tar -zxvf magma-2.5.4.tar.gz"
      ]
    },
    {
      "cell_type": "code",
      "execution_count": null,
      "metadata": {
        "id": "OyuRmurZ24MO"
      },
      "outputs": [],
      "source": [
        "!cp magma-2.5.4/make.inc-examples/make.inc.openblas magma-2.5.4/make.inc"
      ]
    },
    {
      "cell_type": "code",
      "execution_count": null,
      "metadata": {
        "colab": {
          "base_uri": "https://localhost:8080/"
        },
        "id": "OMEuLUBB2954",
        "outputId": "7a62e90a-99ee-43f4-9e55-4fd49823e304"
      },
      "outputs": [
        {
          "name": "stdout",
          "output_type": "stream",
          "text": [
            "env: GPU_TARGET=\"Maxwell Pascal Volta Turing Ampere\"\n",
            "env: CUDADIR=/usr/local/cuda\n",
            "env: OPENBLASDIR=/usr/\n"
          ]
        }
      ],
      "source": [
        "%env GPU_TARGET=\"Maxwell Pascal Volta Turing Ampere\"\n",
        "%env CUDADIR=/usr/local/cuda\n",
        "%env OPENBLASDIR=/usr/"
      ]
    },
    {
      "cell_type": "code",
      "execution_count": null,
      "metadata": {
        "id": "zcTFoWmx3AsY"
      },
      "outputs": [],
      "source": [
        "!cd magma-2.5.4 && make\n",
        "!cd magma-2.5.4 && sudo -E make install prefix=/usr/local/magma"
      ]
    },
    {
      "cell_type": "code",
      "execution_count": null,
      "metadata": {
        "id": "R0TrGJc43Eop"
      },
      "outputs": [],
      "source": []
    }
  ],
  "metadata": {
    "accelerator": "GPU",
    "colab": {
      "machine_shape": "hm",
      "provenance": []
    },
    "kernelspec": {
      "display_name": "Python 3",
      "name": "python3"
    },
    "language_info": {
      "name": "python"
    }
  },
  "nbformat": 4,
  "nbformat_minor": 0
}
